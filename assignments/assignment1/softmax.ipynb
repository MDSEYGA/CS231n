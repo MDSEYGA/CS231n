{
 "cells": [
  {
   "cell_type": "code",
   "execution_count": null,
   "id": "d8aaae81",
   "metadata": {
    "colab": {
     "base_uri": "https://localhost:8080/"
    },
    "executionInfo": {
     "elapsed": 2221,
     "status": "ok",
     "timestamp": 1740914794698,
     "user": {
      "displayName": "橡皮人",
      "userId": "14202454419361610152"
     },
     "user_tz": -480
    },
    "id": "d8aaae81",
    "outputId": "efaf95f8-4b44-4339-804e-34dd4a970cc3"
   },
   "outputs": [
    {
     "name": "stdout",
     "output_type": "stream",
     "text": [
      "Setup complete. You can now run your assignment locally!\n"
     ]
    }
   ],
   "source": [
    "import sys\n",
    "import os\n",
    "import urllib.request\n",
    "import tarfile\n",
    "\n",
    "# Set the local path to the CS231n assignment folder\n",
    "FOLDERNAME = 'C:/Users/22849/Documents/GitHub/CS231n/assignments/assignment1'\n",
    "assert os.path.exists(FOLDERNAME), \"[!] Directory does not exist. Please check the path.\"\n",
    "\n",
    "# Add CS231n folder to sys.path so Python can find the cs231n module\n",
    "sys.path.append(FOLDERNAME)\n",
    "\n",
    "# Switch to the CS231n dataset directory\n",
    "DATASET_FOLDER = os.path.join(FOLDERNAME, \"cs231n\", \"datasets\")\n",
    "os.makedirs(DATASET_FOLDER, exist_ok=True)  # Ensure the folder exists\n",
    "os.chdir(DATASET_FOLDER)\n",
    "\n",
    "# Download the CIFAR-10 dataset manually (since Bash scripts don't work natively on Windows)\n",
    "CIFAR_URL = \"https://www.cs.toronto.edu/~kriz/cifar-10-python.tar.gz\"\n",
    "CIFAR_TAR_PATH = os.path.join(DATASET_FOLDER, \"cifar-10-python.tar.gz\")\n",
    "\n",
    "if not os.path.exists(CIFAR_TAR_PATH):\n",
    "    print(\"[INFO] Downloading CIFAR-10 dataset...\")\n",
    "    urllib.request.urlretrieve(CIFAR_URL, CIFAR_TAR_PATH)\n",
    "    print(\"[INFO] Download complete.\")\n",
    "\n",
    "# Extract the dataset\n",
    "EXTRACTED_FOLDER = os.path.join(DATASET_FOLDER, \"cifar-10-batches-py\")\n",
    "if not os.path.exists(EXTRACTED_FOLDER):\n",
    "    print(\"[INFO] Extracting CIFAR-10 dataset...\")\n",
    "    with tarfile.open(CIFAR_TAR_PATH, \"r:gz\") as tar:\n",
    "        tar.extractall(DATASET_FOLDER)\n",
    "    print(\"[INFO] Extraction complete.\")\n",
    "\n",
    "    # Delete the compressed file after extraction\n",
    "    os.remove(CIFAR_TAR_PATH)\n",
    "    print(\"[INFO] Removed compressed dataset file.\")\n",
    "\n",
    "# Switch back to the assignment folder\n",
    "os.chdir(FOLDERNAME)\n",
    "print(\"[INFO] Setup complete. You can now run your assignment locally!\")\n"
   ]
  },
  {
   "cell_type": "markdown",
   "id": "e2c3cfa1",
   "metadata": {
    "id": "e2c3cfa1"
   },
   "source": [
    "# Softmax exercise\n",
    "\n",
    "*Complete and hand in this completed worksheet (including its outputs and any supporting code outside of the worksheet) with your assignment submission. For more details see the [assignments page](http://vision.stanford.edu/teaching/cs231n/assignments.html) on the course website.*\n",
    "\n",
    "This exercise is analogous to the SVM exercise. You will:\n",
    "\n",
    "- implement a fully-vectorized **loss function** for the Softmax classifier\n",
    "- implement the fully-vectorized expression for its **analytic gradient**\n",
    "- **check your implementation** with numerical gradient\n",
    "- use a validation set to **tune the learning rate and regularization** strength\n",
    "- **optimize** the loss function with **SGD**\n",
    "- **visualize** the final learned weights\n"
   ]
  },
  {
   "cell_type": "code",
   "execution_count": 1,
   "id": "c55a72bf",
   "metadata": {
    "executionInfo": {
     "elapsed": 1,
     "status": "ok",
     "timestamp": 1740914794698,
     "user": {
      "displayName": "橡皮人",
      "userId": "14202454419361610152"
     },
     "user_tz": -480
    },
    "id": "c55a72bf"
   },
   "outputs": [],
   "source": [
    "import random\n",
    "import numpy as np\n",
    "from cs231n.data_utils import load_CIFAR10\n",
    "import matplotlib.pyplot as plt\n",
    "\n",
    "%matplotlib inline\n",
    "plt.rcParams['figure.figsize'] = (10.0, 8.0) # set default size of plots\n",
    "plt.rcParams['image.interpolation'] = 'nearest'\n",
    "plt.rcParams['image.cmap'] = 'gray'\n",
    "\n",
    "# for auto-reloading extenrnal modules\n",
    "# see http://stackoverflow.com/questions/1907993/autoreload-of-modules-in-ipython\n",
    "%load_ext autoreload\n",
    "%autoreload 2"
   ]
  },
  {
   "cell_type": "code",
   "execution_count": 2,
   "id": "b99594ec",
   "metadata": {
    "colab": {
     "base_uri": "https://localhost:8080/"
    },
    "executionInfo": {
     "elapsed": 4920,
     "status": "ok",
     "timestamp": 1740914799618,
     "user": {
      "displayName": "橡皮人",
      "userId": "14202454419361610152"
     },
     "user_tz": -480
    },
    "id": "b99594ec",
    "outputId": "1ef36524-1788-4a50-f893-5363b41da1db"
   },
   "outputs": [
    {
     "name": "stdout",
     "output_type": "stream",
     "text": [
      "Train data shape:  (49000, 3073)\n",
      "Train labels shape:  (49000,)\n",
      "Validation data shape:  (1000, 3073)\n",
      "Validation labels shape:  (1000,)\n",
      "Test data shape:  (1000, 3073)\n",
      "Test labels shape:  (1000,)\n",
      "dev data shape:  (500, 3073)\n",
      "dev labels shape:  (500,)\n"
     ]
    }
   ],
   "source": [
    "def get_CIFAR10_data(num_training=49000, num_validation=1000, num_test=1000, num_dev=500):\n",
    "    \"\"\"\n",
    "    Load the CIFAR-10 dataset from disk and perform preprocessing to prepare\n",
    "    it for the linear classifier. These are the same steps as we used for the\n",
    "    SVM, but condensed to a single function.\n",
    "    \"\"\"\n",
    "    # Load the raw CIFAR-10 data\n",
    "    cifar10_dir = 'cs231n/datasets/cifar-10-batches-py'\n",
    "\n",
    "    # Cleaning up variables to prevent loading data multiple times (which may cause memory issue)\n",
    "    try:\n",
    "       del X_train, y_train\n",
    "       del X_test, y_test\n",
    "       print('Clear previously loaded data.')\n",
    "    except:\n",
    "       pass\n",
    "\n",
    "    X_train, y_train, X_test, y_test = load_CIFAR10(cifar10_dir)\n",
    "\n",
    "    # subsample the data\n",
    "    mask = list(range(num_training, num_training + num_validation))\n",
    "    X_val = X_train[mask]\n",
    "    y_val = y_train[mask]\n",
    "    mask = list(range(num_training))\n",
    "    X_train = X_train[mask]\n",
    "    y_train = y_train[mask]\n",
    "    mask = list(range(num_test))\n",
    "    X_test = X_test[mask]\n",
    "    y_test = y_test[mask]\n",
    "    mask = np.random.choice(num_training, num_dev, replace=False)\n",
    "    X_dev = X_train[mask]\n",
    "    y_dev = y_train[mask]\n",
    "\n",
    "    # Preprocessing: reshape the image data into rows\n",
    "    X_train = np.reshape(X_train, (X_train.shape[0], -1))\n",
    "    X_val = np.reshape(X_val, (X_val.shape[0], -1))\n",
    "    X_test = np.reshape(X_test, (X_test.shape[0], -1))\n",
    "    X_dev = np.reshape(X_dev, (X_dev.shape[0], -1))\n",
    "\n",
    "    # Normalize the data: subtract the mean image\n",
    "    mean_image = np.mean(X_train, axis = 0)\n",
    "    X_train -= mean_image\n",
    "    X_val -= mean_image\n",
    "    X_test -= mean_image\n",
    "    X_dev -= mean_image\n",
    "\n",
    "    # add bias dimension and transform into columns\n",
    "    X_train = np.hstack([X_train, np.ones((X_train.shape[0], 1))])\n",
    "    X_val = np.hstack([X_val, np.ones((X_val.shape[0], 1))])\n",
    "    X_test = np.hstack([X_test, np.ones((X_test.shape[0], 1))])\n",
    "    X_dev = np.hstack([X_dev, np.ones((X_dev.shape[0], 1))])\n",
    "\n",
    "    return X_train, y_train, X_val, y_val, X_test, y_test, X_dev, y_dev\n",
    "\n",
    "\n",
    "# Invoke the above function to get our data.\n",
    "X_train, y_train, X_val, y_val, X_test, y_test, X_dev, y_dev = get_CIFAR10_data()\n",
    "print('Train data shape: ', X_train.shape)\n",
    "print('Train labels shape: ', y_train.shape)\n",
    "print('Validation data shape: ', X_val.shape)\n",
    "print('Validation labels shape: ', y_val.shape)\n",
    "print('Test data shape: ', X_test.shape)\n",
    "print('Test labels shape: ', y_test.shape)\n",
    "print('dev data shape: ', X_dev.shape)\n",
    "print('dev labels shape: ', y_dev.shape)"
   ]
  },
  {
   "cell_type": "markdown",
   "id": "2713b7f4",
   "metadata": {
    "id": "2713b7f4"
   },
   "source": [
    "## Softmax Classifier\n",
    "\n",
    "Your code for this section will all be written inside `cs231n/classifiers/softmax.py`.\n"
   ]
  },
  {
   "cell_type": "code",
   "execution_count": 3,
   "id": "6168f67e",
   "metadata": {
    "colab": {
     "base_uri": "https://localhost:8080/"
    },
    "executionInfo": {
     "elapsed": 395,
     "status": "ok",
     "timestamp": 1740914800012,
     "user": {
      "displayName": "橡皮人",
      "userId": "14202454419361610152"
     },
     "user_tz": -480
    },
    "id": "6168f67e",
    "outputId": "9bfe1ec0-7d5f-4a5c-c601-df224b4d4217"
   },
   "outputs": [
    {
     "name": "stdout",
     "output_type": "stream",
     "text": [
      "loss: 2.370501\n",
      "sanity check: 2.302585\n"
     ]
    }
   ],
   "source": [
    "# First implement the naive softmax loss function with nested loops.\n",
    "# Open the file cs231n/classifiers/softmax.py and implement the\n",
    "# softmax_loss_naive function.\n",
    "\n",
    "from cs231n.classifiers.softmax import softmax_loss_naive\n",
    "import time\n",
    "\n",
    "# Generate a random softmax weight matrix and use it to compute the loss.\n",
    "W = np.random.randn(3073, 10) * 0.0001\n",
    "loss, grad = softmax_loss_naive(W, X_dev, y_dev, 0.0)\n",
    "\n",
    "# As a rough sanity check, our loss should be something close to -log(0.1).\n",
    "print('loss: %f' % loss)\n",
    "print('sanity check: %f' % (-np.log(0.1)))"
   ]
  },
  {
   "cell_type": "markdown",
   "id": "b35bc604",
   "metadata": {
    "id": "b35bc604"
   },
   "source": [
    "**Inline Question 1**\n",
    "\n",
    "Why do we expect our loss to be close to -log(0.1)? Explain briefly.**\n",
    "\n",
    "$\\color{blue}{\\textit Your Answer:}$ *Fill this in*\n",
    "\n"
   ]
  },
  {
   "cell_type": "code",
   "execution_count": 4,
   "id": "b7bef674",
   "metadata": {
    "colab": {
     "base_uri": "https://localhost:8080/"
    },
    "executionInfo": {
     "elapsed": 4383,
     "status": "ok",
     "timestamp": 1740914916604,
     "user": {
      "displayName": "橡皮人",
      "userId": "14202454419361610152"
     },
     "user_tz": -480
    },
    "id": "b7bef674",
    "outputId": "e4ce98d2-d466-4be6-d5c1-8127f0e5f25d"
   },
   "outputs": [
    {
     "name": "stdout",
     "output_type": "stream",
     "text": [
      "numerical: 1.677020 analytic: 1.677020, relative error: 2.510467e-08\n",
      "numerical: -1.980521 analytic: -1.980521, relative error: 2.147611e-08\n",
      "numerical: 2.616403 analytic: 2.616402, relative error: 2.316552e-08\n",
      "numerical: 0.815054 analytic: 0.815054, relative error: 9.186061e-09\n",
      "numerical: 1.925791 analytic: 1.925791, relative error: 4.195481e-09\n",
      "numerical: 0.053406 analytic: 0.053406, relative error: 3.371977e-07\n",
      "numerical: 3.229393 analytic: 3.229393, relative error: 1.679654e-08\n",
      "numerical: -0.121086 analytic: -0.121086, relative error: 5.550925e-07\n",
      "numerical: 4.677693 analytic: 4.677692, relative error: 2.705250e-08\n",
      "numerical: -0.113973 analytic: -0.113974, relative error: 6.506632e-07\n",
      "numerical: 0.239635 analytic: 0.239635, relative error: 6.998503e-08\n",
      "numerical: 2.245397 analytic: 2.245397, relative error: 3.850491e-09\n",
      "numerical: -0.703209 analytic: -0.703209, relative error: 1.594666e-09\n",
      "numerical: -3.855270 analytic: -3.855270, relative error: 3.292368e-09\n",
      "numerical: 0.107268 analytic: 0.107268, relative error: 2.634733e-07\n",
      "numerical: -1.150857 analytic: -1.150857, relative error: 3.596178e-08\n",
      "numerical: 4.238991 analytic: 4.238991, relative error: 1.679532e-08\n",
      "numerical: -3.034105 analytic: -3.034105, relative error: 8.322131e-09\n",
      "numerical: 4.291164 analytic: 4.291164, relative error: 1.759334e-08\n",
      "numerical: 0.269111 analytic: 0.269111, relative error: 8.375325e-08\n"
     ]
    }
   ],
   "source": [
    "# Complete the implementation of softmax_loss_naive and implement a (naive)\n",
    "# version of the gradient that uses nested loops.\n",
    "loss, grad = softmax_loss_naive(W, X_dev, y_dev, 0.0)\n",
    "\n",
    "# As we did for the SVM, use numeric gradient checking as a debugging tool.\n",
    "# The numeric gradient should be close to the analytic gradient.\n",
    "from cs231n.gradient_check import grad_check_sparse\n",
    "f = lambda w: softmax_loss_naive(w, X_dev, y_dev, 0.0)[0]\n",
    "grad_numerical = grad_check_sparse(f, W, grad, 10)\n",
    "\n",
    "# similar to SVM case, do another gradient check with regularization\n",
    "loss, grad = softmax_loss_naive(W, X_dev, y_dev, 5e1)\n",
    "f = lambda w: softmax_loss_naive(w, X_dev, y_dev, 5e1)[0]\n",
    "grad_numerical = grad_check_sparse(f, W, grad, 10)"
   ]
  },
  {
   "cell_type": "code",
   "execution_count": 5,
   "id": "3994f8a3",
   "metadata": {
    "colab": {
     "base_uri": "https://localhost:8080/"
    },
    "executionInfo": {
     "elapsed": 364,
     "status": "ok",
     "timestamp": 1740916202294,
     "user": {
      "displayName": "橡皮人",
      "userId": "14202454419361610152"
     },
     "user_tz": -480
    },
    "id": "3994f8a3",
    "outputId": "8046d6c9-559d-4a27-a91c-86a6851895e2"
   },
   "outputs": [
    {
     "name": "stdout",
     "output_type": "stream",
     "text": [
      "naive loss: 2.370501e+00 computed in 0.067164s\n",
      "vectorized loss: 2.370501e+00 computed in 0.001023s\n",
      "Loss difference: 0.000000\n",
      "Gradient difference: 0.000000\n"
     ]
    }
   ],
   "source": [
    "# Now that we have a naive implementation of the softmax loss function and its gradient,\n",
    "# implement a vectorized version in softmax_loss_vectorized.\n",
    "# The two versions should compute the same results, but the vectorized version should be\n",
    "# much faster.\n",
    "tic = time.time()\n",
    "loss_naive, grad_naive = softmax_loss_naive(W, X_dev, y_dev, 0.000005)\n",
    "toc = time.time()\n",
    "print('naive loss: %e computed in %fs' % (loss_naive, toc - tic))\n",
    "\n",
    "from cs231n.classifiers.softmax import softmax_loss_vectorized\n",
    "tic = time.time()\n",
    "loss_vectorized, grad_vectorized = softmax_loss_vectorized(W, X_dev, y_dev, 0.000005)\n",
    "toc = time.time()\n",
    "print('vectorized loss: %e computed in %fs' % (loss_vectorized, toc - tic))\n",
    "\n",
    "# As we did for the SVM, we use the Frobenius norm to compare the two versions\n",
    "# of the gradient.\n",
    "grad_difference = np.linalg.norm(grad_naive - grad_vectorized, ord='fro')\n",
    "print('Loss difference: %f' % np.abs(loss_naive - loss_vectorized))\n",
    "print('Gradient difference: %f' % grad_difference)"
   ]
  },
  {
   "cell_type": "code",
   "execution_count": 6,
   "id": "bd171311",
   "metadata": {
    "colab": {
     "background_save": true,
     "base_uri": "https://localhost:8080/"
    },
    "executionInfo": {
     "elapsed": 308,
     "status": "ok",
     "timestamp": 1740916208057,
     "user": {
      "displayName": "橡皮人",
      "userId": "14202454419361610152"
     },
     "user_tz": -480
    },
    "id": "bd171311"
   },
   "outputs": [
    {
     "name": "stdout",
     "output_type": "stream",
     "text": [
      "iteration 0 / 1000: loss 160.510783\n",
      "iteration 100 / 1000: loss 144.788147\n",
      "iteration 200 / 1000: loss 130.415255\n",
      "iteration 300 / 1000: loss 118.002214\n",
      "iteration 400 / 1000: loss 106.124976\n",
      "iteration 500 / 1000: loss 96.273923\n",
      "iteration 600 / 1000: loss 87.476290\n",
      "iteration 700 / 1000: loss 79.215185\n",
      "iteration 800 / 1000: loss 71.528367\n",
      "iteration 900 / 1000: loss 64.806173\n",
      "iteration 0 / 1000: loss 389.667669\n",
      "iteration 100 / 1000: loss 303.028241\n",
      "iteration 200 / 1000: loss 235.957033\n",
      "iteration 300 / 1000: loss 183.909248\n",
      "iteration 400 / 1000: loss 143.547153\n",
      "iteration 500 / 1000: loss 111.977139\n",
      "iteration 600 / 1000: loss 87.512593\n",
      "iteration 700 / 1000: loss 68.472348\n",
      "iteration 800 / 1000: loss 53.782892\n",
      "iteration 900 / 1000: loss 42.245771\n",
      "iteration 0 / 1000: loss 775.411629\n",
      "iteration 100 / 1000: loss 469.237359\n",
      "iteration 200 / 1000: loss 285.063523\n",
      "iteration 300 / 1000: loss 173.080991\n",
      "iteration 400 / 1000: loss 105.708332\n",
      "iteration 500 / 1000: loss 64.839464\n",
      "iteration 600 / 1000: loss 40.028338\n",
      "iteration 700 / 1000: loss 25.055610\n",
      "iteration 800 / 1000: loss 15.994088\n",
      "iteration 900 / 1000: loss 10.547134\n",
      "iteration 0 / 1000: loss 159.425772\n",
      "iteration 100 / 1000: loss 129.486604\n",
      "iteration 200 / 1000: loss 105.816750\n",
      "iteration 300 / 1000: loss 86.919093\n",
      "iteration 400 / 1000: loss 71.052097\n",
      "iteration 500 / 1000: loss 58.585026\n",
      "iteration 600 / 1000: loss 48.138225\n",
      "iteration 700 / 1000: loss 39.719005\n",
      "iteration 800 / 1000: loss 32.908680\n",
      "iteration 900 / 1000: loss 27.157070\n",
      "iteration 0 / 1000: loss 384.609412\n",
      "iteration 100 / 1000: loss 232.413944\n",
      "iteration 200 / 1000: loss 141.142125\n",
      "iteration 300 / 1000: loss 86.178427\n",
      "iteration 400 / 1000: loss 52.877445\n",
      "iteration 500 / 1000: loss 32.759010\n",
      "iteration 600 / 1000: loss 20.661808\n",
      "iteration 700 / 1000: loss 13.303175\n",
      "iteration 800 / 1000: loss 8.836931\n",
      "iteration 900 / 1000: loss 6.130933\n",
      "iteration 0 / 1000: loss 780.527215\n",
      "iteration 100 / 1000: loss 286.745977\n",
      "iteration 200 / 1000: loss 106.200740\n",
      "iteration 300 / 1000: loss 40.185254\n",
      "iteration 400 / 1000: loss 16.070921\n",
      "iteration 500 / 1000: loss 7.197442\n",
      "iteration 600 / 1000: loss 3.981914\n",
      "iteration 700 / 1000: loss 2.817687\n",
      "iteration 800 / 1000: loss 2.304837\n",
      "iteration 900 / 1000: loss 2.145955\n",
      "iteration 0 / 1000: loss 157.462370\n",
      "iteration 100 / 1000: loss 57.749391\n",
      "iteration 200 / 1000: loss 22.184181\n",
      "iteration 300 / 1000: loss 9.311492\n",
      "iteration 400 / 1000: loss 4.530372\n",
      "iteration 500 / 1000: loss 2.968708\n",
      "iteration 600 / 1000: loss 2.193397\n",
      "iteration 700 / 1000: loss 2.053027\n",
      "iteration 800 / 1000: loss 2.034065\n",
      "iteration 900 / 1000: loss 1.997299\n",
      "iteration 0 / 1000: loss 386.826257\n",
      "iteration 100 / 1000: loss 32.654798\n",
      "iteration 200 / 1000: loss 4.440330\n",
      "iteration 300 / 1000: loss 2.283599\n",
      "iteration 400 / 1000: loss 2.072903\n",
      "iteration 500 / 1000: loss 2.084567\n",
      "iteration 600 / 1000: loss 1.979159\n",
      "iteration 700 / 1000: loss 2.071867\n",
      "iteration 800 / 1000: loss 2.044496\n",
      "iteration 900 / 1000: loss 1.973793\n",
      "iteration 0 / 1000: loss 779.605701\n",
      "iteration 100 / 1000: loss 6.941039\n",
      "iteration 200 / 1000: loss 2.094742\n",
      "iteration 300 / 1000: loss 2.077398\n",
      "iteration 400 / 1000: loss 2.015885\n",
      "iteration 500 / 1000: loss 2.111600\n",
      "iteration 600 / 1000: loss 2.066818\n",
      "iteration 700 / 1000: loss 2.067883\n",
      "iteration 800 / 1000: loss 2.131249\n",
      "iteration 900 / 1000: loss 2.116198\n",
      "lr 5.000000e-08 reg 1.000000e+04 train accuracy: 0.229163 val accuracy: 0.250000\n",
      "lr 5.000000e-08 reg 2.500000e+04 train accuracy: 0.262000 val accuracy: 0.264000\n",
      "lr 5.000000e-08 reg 5.000000e+04 train accuracy: 0.308755 val accuracy: 0.317000\n",
      "lr 1.000000e-07 reg 1.000000e+04 train accuracy: 0.284204 val accuracy: 0.297000\n",
      "lr 1.000000e-07 reg 2.500000e+04 train accuracy: 0.335327 val accuracy: 0.333000\n",
      "lr 1.000000e-07 reg 5.000000e+04 train accuracy: 0.330755 val accuracy: 0.343000\n",
      "lr 5.000000e-07 reg 1.000000e+04 train accuracy: 0.370306 val accuracy: 0.384000\n",
      "lr 5.000000e-07 reg 2.500000e+04 train accuracy: 0.340816 val accuracy: 0.357000\n",
      "lr 5.000000e-07 reg 5.000000e+04 train accuracy: 0.319571 val accuracy: 0.337000\n",
      "best validation accuracy achieved during cross-validation: 0.384000\n"
     ]
    }
   ],
   "source": [
    "# Use the validation set to tune hyperparameters (regularization strength and\n",
    "# learning rate). You should experiment with different ranges for the learning\n",
    "# rates and regularization strengths; if you are careful you should be able to\n",
    "# get a classification accuracy of over 0.35 on the validation set.\n",
    "\n",
    "from cs231n.classifiers import Softmax\n",
    "results = {}\n",
    "best_val = -1\n",
    "best_softmax = None\n",
    "\n",
    "################################################################################\n",
    "# TODO:                                                                        #\n",
    "# Use the validation set to set the learning rate and regularization strength. #\n",
    "# This should be identical to the validation that you did for the SVM; save    #\n",
    "# the best trained softmax classifer in best_softmax.                          #\n",
    "################################################################################\n",
    "\n",
    "# Provided as a reference. You may or may not want to change these hyperparameters\n",
    "learning_rates = [5e-8, 1e-7, 5e-7]\n",
    "regularization_strengths = [1e4, 2.5e4, 5e4]\n",
    "\n",
    "# *****START OF YOUR CODE (DO NOT DELETE/MODIFY THIS LINE)*****\n",
    "\n",
    "for learning_rate in learning_rates:\n",
    "    for regularization_strength in regularization_strengths:\n",
    "        softmax = Softmax()\n",
    "        loss_hist = softmax.train(X_train, y_train, learning_rate=learning_rate, reg=regularization_strength,\n",
    "                                num_iters=1000, verbose = True)\n",
    "        y_train_pred = softmax.predict(X_train)\n",
    "        train_accuracy = np.mean(y_train == y_train_pred)\n",
    "        y_val_pred = softmax.predict(X_val)\n",
    "        val_accuracy = np.mean(y_val == y_val_pred)\n",
    "        if val_accuracy > best_val:\n",
    "            best_val = val_accuracy\n",
    "            best_softmax = softmax\n",
    "        results[(learning_rate, regularization_strength)] = (train_accuracy, val_accuracy)\n",
    "\n",
    "# *****END OF YOUR CODE (DO NOT DELETE/MODIFY THIS LINE)*****\n",
    "\n",
    "# Print out results.\n",
    "for lr, reg in sorted(results):\n",
    "    train_accuracy, val_accuracy = results[(lr, reg)]\n",
    "    print('lr %e reg %e train accuracy: %f val accuracy: %f' % (\n",
    "                lr, reg, train_accuracy, val_accuracy))\n",
    "\n",
    "print('best validation accuracy achieved during cross-validation: %f' % best_val)"
   ]
  },
  {
   "cell_type": "code",
   "execution_count": 7,
   "id": "f94a8f12",
   "metadata": {
    "id": "f94a8f12"
   },
   "outputs": [
    {
     "name": "stdout",
     "output_type": "stream",
     "text": [
      "softmax on raw pixels final test set accuracy: 0.381000\n"
     ]
    }
   ],
   "source": [
    "# evaluate on test set\n",
    "# Evaluate the best softmax on test set\n",
    "y_test_pred = best_softmax.predict(X_test)\n",
    "test_accuracy = np.mean(y_test == y_test_pred)\n",
    "print('softmax on raw pixels final test set accuracy: %f' % (test_accuracy, ))"
   ]
  },
  {
   "cell_type": "markdown",
   "id": "7e2112ee",
   "metadata": {
    "id": "7e2112ee"
   },
   "source": [
    "**Inline Question 2** - *True or False*\n",
    "\n",
    "Suppose the overall training loss is defined as the sum of the per-datapoint loss over all training examples. It is possible to add a new datapoint to a training set that would leave the SVM loss unchanged, but this is not the case with the Softmax classifier loss.\n",
    "\n",
    "$\\color{blue}{\\textit Your Answer:}$\n",
    "\n",
    "\n",
    "$\\color{blue}{\\textit Your Explanation:}$\n",
    "\n"
   ]
  },
  {
   "cell_type": "code",
   "execution_count": 8,
   "id": "86d86120",
   "metadata": {
    "id": "86d86120"
   },
   "outputs": [
    {
     "data": {
      "image/png": "[encoded data removed]",
      "text/plain": [
       "<Figure size 1000x800 with 10 Axes>"
      ]
     },
     "metadata": {},
     "output_type": "display_data"
    }
   ],
   "source": [
    "# Visualize the learned weights for each class\n",
    "w = best_softmax.W[:-1,:] # strip out the bias\n",
    "w = w.reshape(32, 32, 3, 10)\n",
    "\n",
    "w_min, w_max = np.min(w), np.max(w)\n",
    "\n",
    "classes = ['plane', 'car', 'bird', 'cat', 'deer', 'dog', 'frog', 'horse', 'ship', 'truck']\n",
    "for i in range(10):\n",
    "    plt.subplot(2, 5, i + 1)\n",
    "\n",
    "    # Rescale the weights to be between 0 and 255\n",
    "    wimg = 255.0 * (w[:, :, :, i].squeeze() - w_min) / (w_max - w_min)\n",
    "    plt.imshow(wimg.astype('uint8'))\n",
    "    plt.axis('off')\n",
    "    plt.title(classes[i])"
   ]
  },
  {
   "cell_type": "code",
   "execution_count": null,
   "id": "24688f99",
   "metadata": {
    "id": "24688f99"
   },
   "outputs": [],
   "source": []
  }
 ],
 "metadata": {
  "colab": {
   "name": "",
   "version": ""
  },
  "kernelspec": {
   "display_name": "Python 3",
   "name": "python3"
  },
  "language_info": {
   "codemirror_mode": {
    "name": "ipython",
    "version": 3
   },
   "file_extension": ".py",
   "mimetype": "text/x-python",
   "name": "python",
   "nbconvert_exporter": "python",
   "pygments_lexer": "ipython3",
   "version": "3.11.9"
  }
 },
 "nbformat": 4,
 "nbformat_minor": 5
}
