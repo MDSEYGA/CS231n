{
 "cells": [
  {
   "cell_type": "code",
   "execution_count": 1,
   "id": "d8aaae81",
   "metadata": {
    "colab": {
     "base_uri": "https://localhost:8080/"
    },
    "executionInfo": {
     "elapsed": 2221,
     "status": "ok",
     "timestamp": 1740914794698,
     "user": {
      "displayName": "橡皮人",
      "userId": "14202454419361610152"
     },
     "user_tz": -480
    },
    "id": "d8aaae81",
    "outputId": "efaf95f8-4b44-4339-804e-34dd4a970cc3"
   },
   "outputs": [
    {
     "name": "stdout",
     "output_type": "stream",
     "text": [
      "Setup complete. You can now run your assignment locally!\n"
     ]
    }
   ],
   "source": [
    "import sys\n",
    "import os\n",
    "\n",
    "# 设置本地 CS231n 代码文件夹路径\n",
    "FOLDERNAME = 'C:/Users/22849/Desktop/CS231n/assignments/assignment1'\n",
    "assert os.path.exists(FOLDERNAME), \"[!] 目录不存在，请检查路径是否正确\"\n",
    "\n",
    "# 添加 CS231n 代码路径到 sys.path，确保 Python 可以找到 cs231n 模块\n",
    "sys.path.append(FOLDERNAME)\n",
    "\n",
    "# 切换到 CS231n 数据集目录\n",
    "DATASET_FOLDER = os.path.join(FOLDERNAME, \"cs231n\", \"datasets\")\n",
    "os.makedirs(DATASET_FOLDER, exist_ok=True)  # 确保文件夹存在\n",
    "os.chdir(DATASET_FOLDER)\n",
    "\n",
    "# 手动下载 CIFAR-10 数据集（本地运行无法执行 bash 脚本）\n",
    "import urllib.request\n",
    "import tarfile\n",
    "\n",
    "CIFAR_URL = \"https://www.cs.toronto.edu/~kriz/cifar-10-python.tar.gz\"\n",
    "CIFAR_TAR_PATH = os.path.join(DATASET_FOLDER, \"cifar-10-python.tar.gz\")\n",
    "\n",
    "if not os.path.exists(CIFAR_TAR_PATH):\n",
    "    print(\"Downloading CIFAR-10 dataset...\")\n",
    "    urllib.request.urlretrieve(CIFAR_URL, CIFAR_TAR_PATH)\n",
    "    print(\"Download complete.\")\n",
    "\n",
    "# 解压数据集\n",
    "if not os.path.exists(os.path.join(DATASET_FOLDER, \"cifar-10-batches-py\")):\n",
    "    print(\"Extracting CIFAR-10 dataset...\")\n",
    "    with tarfile.open(CIFAR_TAR_PATH, \"r:gz\") as tar:\n",
    "        tar.extractall(DATASET_FOLDER)\n",
    "    print(\"Extraction complete.\")\n",
    "\n",
    "# 切换回作业目录\n",
    "os.chdir(FOLDERNAME)\n",
    "print(\"Setup complete. You can now run your assignment locally!\")"
   ]
  },
  {
   "cell_type": "markdown",
   "id": "e2c3cfa1",
   "metadata": {
    "id": "e2c3cfa1"
   },
   "source": [
    "# Softmax exercise\n",
    "\n",
    "*Complete and hand in this completed worksheet (including its outputs and any supporting code outside of the worksheet) with your assignment submission. For more details see the [assignments page](http://vision.stanford.edu/teaching/cs231n/assignments.html) on the course website.*\n",
    "\n",
    "This exercise is analogous to the SVM exercise. You will:\n",
    "\n",
    "- implement a fully-vectorized **loss function** for the Softmax classifier\n",
    "- implement the fully-vectorized expression for its **analytic gradient**\n",
    "- **check your implementation** with numerical gradient\n",
    "- use a validation set to **tune the learning rate and regularization** strength\n",
    "- **optimize** the loss function with **SGD**\n",
    "- **visualize** the final learned weights\n"
   ]
  },
  {
   "cell_type": "code",
   "execution_count": 2,
   "id": "c55a72bf",
   "metadata": {
    "executionInfo": {
     "elapsed": 1,
     "status": "ok",
     "timestamp": 1740914794698,
     "user": {
      "displayName": "橡皮人",
      "userId": "14202454419361610152"
     },
     "user_tz": -480
    },
    "id": "c55a72bf"
   },
   "outputs": [],
   "source": [
    "import random\n",
    "import numpy as np\n",
    "from cs231n.data_utils import load_CIFAR10\n",
    "import matplotlib.pyplot as plt\n",
    "\n",
    "%matplotlib inline\n",
    "plt.rcParams['figure.figsize'] = (10.0, 8.0) # set default size of plots\n",
    "plt.rcParams['image.interpolation'] = 'nearest'\n",
    "plt.rcParams['image.cmap'] = 'gray'\n",
    "\n",
    "# for auto-reloading extenrnal modules\n",
    "# see http://stackoverflow.com/questions/1907993/autoreload-of-modules-in-ipython\n",
    "%load_ext autoreload\n",
    "%autoreload 2"
   ]
  },
  {
   "cell_type": "code",
   "execution_count": 4,
   "id": "b99594ec",
   "metadata": {
    "colab": {
     "base_uri": "https://localhost:8080/"
    },
    "executionInfo": {
     "elapsed": 4920,
     "status": "ok",
     "timestamp": 1740914799618,
     "user": {
      "displayName": "橡皮人",
      "userId": "14202454419361610152"
     },
     "user_tz": -480
    },
    "id": "b99594ec",
    "outputId": "1ef36524-1788-4a50-f893-5363b41da1db"
   },
   "outputs": [
    {
     "name": "stdout",
     "output_type": "stream",
     "text": [
      "Train data shape:  (49000, 3073)\n",
      "Train labels shape:  (49000,)\n",
      "Validation data shape:  (1000, 3073)\n",
      "Validation labels shape:  (1000,)\n",
      "Test data shape:  (1000, 3073)\n",
      "Test labels shape:  (1000,)\n",
      "dev data shape:  (500, 3073)\n",
      "dev labels shape:  (500,)\n"
     ]
    }
   ],
   "source": [
    "def get_CIFAR10_data(num_training=49000, num_validation=1000, num_test=1000, num_dev=500):\n",
    "    \"\"\"\n",
    "    Load the CIFAR-10 dataset from disk and perform preprocessing to prepare\n",
    "    it for the linear classifier. These are the same steps as we used for the\n",
    "    SVM, but condensed to a single function.\n",
    "    \"\"\"\n",
    "    # Load the raw CIFAR-10 data\n",
    "    cifar10_dir = 'cs231n/datasets/cifar-10-batches-py'\n",
    "\n",
    "    # Cleaning up variables to prevent loading data multiple times (which may cause memory issue)\n",
    "    try:\n",
    "       del X_train, y_train\n",
    "       del X_test, y_test\n",
    "       print('Clear previously loaded data.')\n",
    "    except:\n",
    "       pass\n",
    "\n",
    "    X_train, y_train, X_test, y_test = load_CIFAR10(cifar10_dir)\n",
    "\n",
    "    # subsample the data\n",
    "    mask = list(range(num_training, num_training + num_validation))\n",
    "    X_val = X_train[mask]\n",
    "    y_val = y_train[mask]\n",
    "    mask = list(range(num_training))\n",
    "    X_train = X_train[mask]\n",
    "    y_train = y_train[mask]\n",
    "    mask = list(range(num_test))\n",
    "    X_test = X_test[mask]\n",
    "    y_test = y_test[mask]\n",
    "    mask = np.random.choice(num_training, num_dev, replace=False)\n",
    "    X_dev = X_train[mask]\n",
    "    y_dev = y_train[mask]\n",
    "\n",
    "    # Preprocessing: reshape the image data into rows\n",
    "    X_train = np.reshape(X_train, (X_train.shape[0], -1))\n",
    "    X_val = np.reshape(X_val, (X_val.shape[0], -1))\n",
    "    X_test = np.reshape(X_test, (X_test.shape[0], -1))\n",
    "    X_dev = np.reshape(X_dev, (X_dev.shape[0], -1))\n",
    "\n",
    "    # Normalize the data: subtract the mean image\n",
    "    mean_image = np.mean(X_train, axis = 0)\n",
    "    X_train -= mean_image\n",
    "    X_val -= mean_image\n",
    "    X_test -= mean_image\n",
    "    X_dev -= mean_image\n",
    "\n",
    "    # add bias dimension and transform into columns\n",
    "    X_train = np.hstack([X_train, np.ones((X_train.shape[0], 1))])\n",
    "    X_val = np.hstack([X_val, np.ones((X_val.shape[0], 1))])\n",
    "    X_test = np.hstack([X_test, np.ones((X_test.shape[0], 1))])\n",
    "    X_dev = np.hstack([X_dev, np.ones((X_dev.shape[0], 1))])\n",
    "\n",
    "    return X_train, y_train, X_val, y_val, X_test, y_test, X_dev, y_dev\n",
    "\n",
    "\n",
    "# Invoke the above function to get our data.\n",
    "X_train, y_train, X_val, y_val, X_test, y_test, X_dev, y_dev = get_CIFAR10_data()\n",
    "print('Train data shape: ', X_train.shape)\n",
    "print('Train labels shape: ', y_train.shape)\n",
    "print('Validation data shape: ', X_val.shape)\n",
    "print('Validation labels shape: ', y_val.shape)\n",
    "print('Test data shape: ', X_test.shape)\n",
    "print('Test labels shape: ', y_test.shape)\n",
    "print('dev data shape: ', X_dev.shape)\n",
    "print('dev labels shape: ', y_dev.shape)"
   ]
  },
  {
   "cell_type": "markdown",
   "id": "2713b7f4",
   "metadata": {
    "id": "2713b7f4"
   },
   "source": [
    "## Softmax Classifier\n",
    "\n",
    "Your code for this section will all be written inside `cs231n/classifiers/softmax.py`.\n"
   ]
  },
  {
   "cell_type": "code",
   "execution_count": 5,
   "id": "6168f67e",
   "metadata": {
    "colab": {
     "base_uri": "https://localhost:8080/"
    },
    "executionInfo": {
     "elapsed": 395,
     "status": "ok",
     "timestamp": 1740914800012,
     "user": {
      "displayName": "橡皮人",
      "userId": "14202454419361610152"
     },
     "user_tz": -480
    },
    "id": "6168f67e",
    "outputId": "9bfe1ec0-7d5f-4a5c-c601-df224b4d4217"
   },
   "outputs": [
    {
     "name": "stdout",
     "output_type": "stream",
     "text": [
      "loss: 2.352398\n",
      "sanity check: 2.302585\n"
     ]
    }
   ],
   "source": [
    "# First implement the naive softmax loss function with nested loops.\n",
    "# Open the file cs231n/classifiers/softmax.py and implement the\n",
    "# softmax_loss_naive function.\n",
    "\n",
    "from cs231n.classifiers.softmax import softmax_loss_naive\n",
    "import time\n",
    "\n",
    "# Generate a random softmax weight matrix and use it to compute the loss.\n",
    "W = np.random.randn(3073, 10) * 0.0001\n",
    "loss, grad = softmax_loss_naive(W, X_dev, y_dev, 0.0)\n",
    "\n",
    "# As a rough sanity check, our loss should be something close to -log(0.1).\n",
    "print('loss: %f' % loss)\n",
    "print('sanity check: %f' % (-np.log(0.1)))"
   ]
  },
  {
   "cell_type": "markdown",
   "id": "b35bc604",
   "metadata": {
    "id": "b35bc604"
   },
   "source": [
    "**Inline Question 1**\n",
    "\n",
    "Why do we expect our loss to be close to -log(0.1)? Explain briefly.**\n",
    "\n",
    "$\\color{blue}{\\textit Your Answer:}$ *Fill this in*\n",
    "\n"
   ]
  },
  {
   "cell_type": "code",
   "execution_count": 6,
   "id": "b7bef674",
   "metadata": {
    "colab": {
     "base_uri": "https://localhost:8080/"
    },
    "executionInfo": {
     "elapsed": 4383,
     "status": "ok",
     "timestamp": 1740914916604,
     "user": {
      "displayName": "橡皮人",
      "userId": "14202454419361610152"
     },
     "user_tz": -480
    },
    "id": "b7bef674",
    "outputId": "e4ce98d2-d466-4be6-d5c1-8127f0e5f25d"
   },
   "outputs": [
    {
     "name": "stdout",
     "output_type": "stream",
     "text": [
      "numerical: 0.365440 analytic: 0.365440, relative error: 2.070661e-07\n",
      "numerical: 3.193056 analytic: 3.193055, relative error: 2.393505e-08\n",
      "numerical: -0.952475 analytic: -0.952475, relative error: 2.630530e-09\n",
      "numerical: -4.985532 analytic: -4.985532, relative error: 9.399991e-09\n",
      "numerical: -3.127282 analytic: -3.127283, relative error: 4.141634e-08\n",
      "numerical: -4.366622 analytic: -4.366622, relative error: 2.354175e-09\n",
      "numerical: -0.937281 analytic: -0.937280, relative error: 1.127475e-08\n",
      "numerical: 0.585108 analytic: 0.585108, relative error: 1.537770e-07\n",
      "numerical: -1.648024 analytic: -1.648024, relative error: 1.142191e-08\n",
      "numerical: 2.394434 analytic: 2.394434, relative error: 8.828394e-09\n",
      "numerical: 0.868045 analytic: 0.868045, relative error: 5.773128e-08\n",
      "numerical: 2.739135 analytic: 2.739135, relative error: 2.030470e-08\n",
      "numerical: 2.775248 analytic: 2.775247, relative error: 4.484523e-08\n",
      "numerical: 2.277637 analytic: 2.277637, relative error: 2.501086e-08\n",
      "numerical: 1.571672 analytic: 1.571672, relative error: 1.760639e-08\n",
      "numerical: 0.620377 analytic: 0.620377, relative error: 8.745194e-08\n",
      "numerical: 1.734292 analytic: 1.734292, relative error: 1.945386e-08\n",
      "numerical: 0.354082 analytic: 0.354082, relative error: 2.192095e-07\n",
      "numerical: -0.560509 analytic: -0.560509, relative error: 4.967594e-08\n",
      "numerical: -2.346002 analytic: -2.346002, relative error: 4.063595e-08\n"
     ]
    }
   ],
   "source": [
    "# Complete the implementation of softmax_loss_naive and implement a (naive)\n",
    "# version of the gradient that uses nested loops.\n",
    "loss, grad = softmax_loss_naive(W, X_dev, y_dev, 0.0)\n",
    "\n",
    "# As we did for the SVM, use numeric gradient checking as a debugging tool.\n",
    "# The numeric gradient should be close to the analytic gradient.\n",
    "from cs231n.gradient_check import grad_check_sparse\n",
    "f = lambda w: softmax_loss_naive(w, X_dev, y_dev, 0.0)[0]\n",
    "grad_numerical = grad_check_sparse(f, W, grad, 10)\n",
    "\n",
    "# similar to SVM case, do another gradient check with regularization\n",
    "loss, grad = softmax_loss_naive(W, X_dev, y_dev, 5e1)\n",
    "f = lambda w: softmax_loss_naive(w, X_dev, y_dev, 5e1)[0]\n",
    "grad_numerical = grad_check_sparse(f, W, grad, 10)"
   ]
  },
  {
   "cell_type": "code",
   "execution_count": 7,
   "id": "3994f8a3",
   "metadata": {
    "colab": {
     "base_uri": "https://localhost:8080/"
    },
    "executionInfo": {
     "elapsed": 364,
     "status": "ok",
     "timestamp": 1740916202294,
     "user": {
      "displayName": "橡皮人",
      "userId": "14202454419361610152"
     },
     "user_tz": -480
    },
    "id": "3994f8a3",
    "outputId": "8046d6c9-559d-4a27-a91c-86a6851895e2"
   },
   "outputs": [
    {
     "name": "stdout",
     "output_type": "stream",
     "text": [
      "naive loss: 2.352398e+00 computed in 0.063719s\n",
      "vectorized loss: 2.352398e+00 computed in 0.001018s\n",
      "Loss difference: 0.000000\n",
      "Gradient difference: 0.000000\n"
     ]
    }
   ],
   "source": [
    "# Now that we have a naive implementation of the softmax loss function and its gradient,\n",
    "# implement a vectorized version in softmax_loss_vectorized.\n",
    "# The two versions should compute the same results, but the vectorized version should be\n",
    "# much faster.\n",
    "tic = time.time()\n",
    "loss_naive, grad_naive = softmax_loss_naive(W, X_dev, y_dev, 0.000005)\n",
    "toc = time.time()\n",
    "print('naive loss: %e computed in %fs' % (loss_naive, toc - tic))\n",
    "\n",
    "from cs231n.classifiers.softmax import softmax_loss_vectorized\n",
    "tic = time.time()\n",
    "loss_vectorized, grad_vectorized = softmax_loss_vectorized(W, X_dev, y_dev, 0.000005)\n",
    "toc = time.time()\n",
    "print('vectorized loss: %e computed in %fs' % (loss_vectorized, toc - tic))\n",
    "\n",
    "# As we did for the SVM, we use the Frobenius norm to compare the two versions\n",
    "# of the gradient.\n",
    "grad_difference = np.linalg.norm(grad_naive - grad_vectorized, ord='fro')\n",
    "print('Loss difference: %f' % np.abs(loss_naive - loss_vectorized))\n",
    "print('Gradient difference: %f' % grad_difference)"
   ]
  },
  {
   "cell_type": "code",
   "execution_count": 12,
   "id": "bd171311",
   "metadata": {
    "colab": {
     "background_save": true,
     "base_uri": "https://localhost:8080/"
    },
    "executionInfo": {
     "elapsed": 308,
     "status": "ok",
     "timestamp": 1740916208057,
     "user": {
      "displayName": "橡皮人",
      "userId": "14202454419361610152"
     },
     "user_tz": -480
    },
    "id": "bd171311"
   },
   "outputs": [
    {
     "name": "stdout",
     "output_type": "stream",
     "text": [
      "iteration 0 / 1000: loss 159.063342\n",
      "iteration 100 / 1000: loss 142.916864\n",
      "iteration 200 / 1000: loss 129.456801\n",
      "iteration 300 / 1000: loss 117.184996\n",
      "iteration 400 / 1000: loss 105.385936\n",
      "iteration 500 / 1000: loss 95.653906\n",
      "iteration 600 / 1000: loss 86.591879\n",
      "iteration 700 / 1000: loss 78.731677\n",
      "iteration 800 / 1000: loss 71.155620\n",
      "iteration 900 / 1000: loss 64.564843\n",
      "iteration 0 / 1000: loss 389.889823\n",
      "iteration 100 / 1000: loss 302.561250\n",
      "iteration 200 / 1000: loss 235.900871\n",
      "iteration 300 / 1000: loss 183.567046\n",
      "iteration 400 / 1000: loss 143.277458\n",
      "iteration 500 / 1000: loss 111.823109\n",
      "iteration 600 / 1000: loss 87.368072\n",
      "iteration 700 / 1000: loss 68.492325\n",
      "iteration 800 / 1000: loss 53.779442\n",
      "iteration 900 / 1000: loss 42.255135\n",
      "iteration 0 / 1000: loss 777.217777\n",
      "iteration 100 / 1000: loss 470.907134\n",
      "iteration 200 / 1000: loss 285.845407\n",
      "iteration 300 / 1000: loss 173.725980\n",
      "iteration 400 / 1000: loss 106.058977\n",
      "iteration 500 / 1000: loss 65.009139\n",
      "iteration 600 / 1000: loss 40.189299\n",
      "iteration 700 / 1000: loss 25.134886\n",
      "iteration 800 / 1000: loss 16.078567\n",
      "iteration 900 / 1000: loss 10.568280\n",
      "iteration 0 / 1000: loss 159.468382\n",
      "iteration 100 / 1000: loss 129.154724\n",
      "iteration 200 / 1000: loss 105.559401\n",
      "iteration 300 / 1000: loss 86.545113\n",
      "iteration 400 / 1000: loss 70.913927\n",
      "iteration 500 / 1000: loss 58.330795\n",
      "iteration 600 / 1000: loss 48.147417\n",
      "iteration 700 / 1000: loss 39.647559\n",
      "iteration 800 / 1000: loss 32.655505\n",
      "iteration 900 / 1000: loss 27.082893\n",
      "iteration 0 / 1000: loss 392.107991\n",
      "iteration 100 / 1000: loss 237.123459\n",
      "iteration 200 / 1000: loss 143.918912\n",
      "iteration 300 / 1000: loss 87.935718\n",
      "iteration 400 / 1000: loss 53.991008\n",
      "iteration 500 / 1000: loss 33.465417\n",
      "iteration 600 / 1000: loss 21.092555\n",
      "iteration 700 / 1000: loss 13.516157\n",
      "iteration 800 / 1000: loss 9.044352\n",
      "iteration 900 / 1000: loss 6.157739\n",
      "iteration 0 / 1000: loss 775.786956\n",
      "iteration 100 / 1000: loss 284.482659\n",
      "iteration 200 / 1000: loss 105.295640\n",
      "iteration 300 / 1000: loss 39.933834\n",
      "iteration 400 / 1000: loss 15.881072\n",
      "iteration 500 / 1000: loss 7.163487\n",
      "iteration 600 / 1000: loss 3.964508\n",
      "iteration 700 / 1000: loss 2.724633\n",
      "iteration 800 / 1000: loss 2.280167\n",
      "iteration 900 / 1000: loss 2.219996\n",
      "iteration 0 / 1000: loss 160.520718\n",
      "iteration 100 / 1000: loss 58.213000\n",
      "iteration 200 / 1000: loss 22.449020\n",
      "iteration 300 / 1000: loss 9.506434\n",
      "iteration 400 / 1000: loss 4.719752\n",
      "iteration 500 / 1000: loss 2.974209\n",
      "iteration 600 / 1000: loss 2.338220\n",
      "iteration 700 / 1000: loss 2.070339\n",
      "iteration 800 / 1000: loss 1.996763\n",
      "iteration 900 / 1000: loss 2.071642\n",
      "iteration 0 / 1000: loss 390.746267\n",
      "iteration 100 / 1000: loss 32.901254\n",
      "iteration 200 / 1000: loss 4.595705\n",
      "iteration 300 / 1000: loss 2.255800\n",
      "iteration 400 / 1000: loss 1.970579\n",
      "iteration 500 / 1000: loss 2.048748\n",
      "iteration 600 / 1000: loss 1.998076\n",
      "iteration 700 / 1000: loss 1.914872\n",
      "iteration 800 / 1000: loss 2.025296\n",
      "iteration 900 / 1000: loss 2.077225\n",
      "iteration 0 / 1000: loss 766.066724\n",
      "iteration 100 / 1000: loss 6.871344\n",
      "iteration 200 / 1000: loss 2.094897\n",
      "iteration 300 / 1000: loss 2.033471\n",
      "iteration 400 / 1000: loss 2.098445\n",
      "iteration 500 / 1000: loss 2.067900\n",
      "iteration 600 / 1000: loss 2.057706\n",
      "iteration 700 / 1000: loss 2.076079\n",
      "iteration 800 / 1000: loss 2.121093\n",
      "iteration 900 / 1000: loss 2.088873\n",
      "lr 5.000000e-08 reg 1.000000e+04 train accuracy: 0.219551 val accuracy: 0.229000\n",
      "lr 5.000000e-08 reg 2.500000e+04 train accuracy: 0.269245 val accuracy: 0.275000\n",
      "lr 5.000000e-08 reg 5.000000e+04 train accuracy: 0.309102 val accuracy: 0.321000\n",
      "lr 1.000000e-07 reg 1.000000e+04 train accuracy: 0.292020 val accuracy: 0.318000\n",
      "lr 1.000000e-07 reg 2.500000e+04 train accuracy: 0.335082 val accuracy: 0.333000\n",
      "lr 1.000000e-07 reg 5.000000e+04 train accuracy: 0.325837 val accuracy: 0.338000\n",
      "lr 5.000000e-07 reg 1.000000e+04 train accuracy: 0.374490 val accuracy: 0.388000\n",
      "lr 5.000000e-07 reg 2.500000e+04 train accuracy: 0.337837 val accuracy: 0.349000\n",
      "lr 5.000000e-07 reg 5.000000e+04 train accuracy: 0.327061 val accuracy: 0.337000\n",
      "best validation accuracy achieved during cross-validation: 0.388000\n"
     ]
    }
   ],
   "source": [
    "# Use the validation set to tune hyperparameters (regularization strength and\n",
    "# learning rate). You should experiment with different ranges for the learning\n",
    "# rates and regularization strengths; if you are careful you should be able to\n",
    "# get a classification accuracy of over 0.35 on the validation set.\n",
    "\n",
    "from cs231n.classifiers import Softmax\n",
    "results = {}\n",
    "best_val = -1\n",
    "best_softmax = None\n",
    "\n",
    "################################################################################\n",
    "# TODO:                                                                        #\n",
    "# Use the validation set to set the learning rate and regularization strength. #\n",
    "# This should be identical to the validation that you did for the SVM; save    #\n",
    "# the best trained softmax classifer in best_softmax.                          #\n",
    "################################################################################\n",
    "\n",
    "# Provided as a reference. You may or may not want to change these hyperparameters\n",
    "learning_rates = [5e-8, 1e-7, 5e-7]\n",
    "regularization_strengths = [1e4, 2.5e4, 5e4]\n",
    "\n",
    "# *****START OF YOUR CODE (DO NOT DELETE/MODIFY THIS LINE)*****\n",
    "\n",
    "for learning_rate in learning_rates:\n",
    "    for regularization_strength in regularization_strengths:\n",
    "        softmax = Softmax()\n",
    "        loss_hist = softmax.train(X_train, y_train, learning_rate=learning_rate, reg=regularization_strength,\n",
    "                                num_iters=1000, verbose = True)\n",
    "        y_train_pred = softmax.predict(X_train)\n",
    "        train_accuracy = np.mean(y_train == y_train_pred)\n",
    "        y_val_pred = softmax.predict(X_val)\n",
    "        val_accuracy = np.mean(y_val == y_val_pred)\n",
    "        if val_accuracy > best_val:\n",
    "            best_val = val_accuracy\n",
    "            best_softmax = softmax\n",
    "        results[(learning_rate, regularization_strength)] = (train_accuracy, val_accuracy)\n",
    "\n",
    "# *****END OF YOUR CODE (DO NOT DELETE/MODIFY THIS LINE)*****\n",
    "\n",
    "# Print out results.\n",
    "for lr, reg in sorted(results):\n",
    "    train_accuracy, val_accuracy = results[(lr, reg)]\n",
    "    print('lr %e reg %e train accuracy: %f val accuracy: %f' % (\n",
    "                lr, reg, train_accuracy, val_accuracy))\n",
    "\n",
    "print('best validation accuracy achieved during cross-validation: %f' % best_val)"
   ]
  },
  {
   "cell_type": "code",
   "execution_count": 13,
   "id": "f94a8f12",
   "metadata": {
    "id": "f94a8f12"
   },
   "outputs": [
    {
     "name": "stdout",
     "output_type": "stream",
     "text": [
      "softmax on raw pixels final test set accuracy: 0.370000\n"
     ]
    }
   ],
   "source": [
    "# evaluate on test set\n",
    "# Evaluate the best softmax on test set\n",
    "y_test_pred = best_softmax.predict(X_test)\n",
    "test_accuracy = np.mean(y_test == y_test_pred)\n",
    "print('softmax on raw pixels final test set accuracy: %f' % (test_accuracy, ))"
   ]
  },
  {
   "cell_type": "markdown",
   "id": "7e2112ee",
   "metadata": {
    "id": "7e2112ee"
   },
   "source": [
    "**Inline Question 2** - *True or False*\n",
    "\n",
    "Suppose the overall training loss is defined as the sum of the per-datapoint loss over all training examples. It is possible to add a new datapoint to a training set that would leave the SVM loss unchanged, but this is not the case with the Softmax classifier loss.\n",
    "\n",
    "$\\color{blue}{\\textit Your Answer:}$\n",
    "\n",
    "\n",
    "$\\color{blue}{\\textit Your Explanation:}$\n",
    "\n"
   ]
  },
  {
   "cell_type": "code",
   "execution_count": 15,
   "id": "86d86120",
   "metadata": {
    "id": "86d86120"
   },
   "outputs": [
    {
     "data": {
      "image/png": "[encoded data removed]",
      "text/plain": [
       "<Figure size 1000x800 with 10 Axes>"
      ]
     },
     "metadata": {},
     "output_type": "display_data"
    }
   ],
   "source": [
    "# Visualize the learned weights for each class\n",
    "w = best_softmax.W[:-1,:] # strip out the bias\n",
    "w = w.reshape(32, 32, 3, 10)\n",
    "\n",
    "w_min, w_max = np.min(w), np.max(w)\n",
    "\n",
    "classes = ['plane', 'car', 'bird', 'cat', 'deer', 'dog', 'frog', 'horse', 'ship', 'truck']\n",
    "for i in range(10):\n",
    "    plt.subplot(2, 5, i + 1)\n",
    "\n",
    "    # Rescale the weights to be between 0 and 255\n",
    "    wimg = 255.0 * (w[:, :, :, i].squeeze() - w_min) / (w_max - w_min)\n",
    "    plt.imshow(wimg.astype('uint8'))\n",
    "    plt.axis('off')\n",
    "    plt.title(classes[i])"
   ]
  },
  {
   "cell_type": "code",
   "execution_count": null,
   "id": "24688f99",
   "metadata": {
    "id": "24688f99"
   },
   "outputs": [],
   "source": []
  }
 ],
 "metadata": {
  "colab": {
   "name": "",
   "version": ""
  },
  "kernelspec": {
   "display_name": "Python 3",
   "name": "python3"
  },
  "language_info": {
   "codemirror_mode": {
    "name": "ipython",
    "version": 3
   },
   "file_extension": ".py",
   "mimetype": "text/x-python",
   "name": "python",
   "nbconvert_exporter": "python",
   "pygments_lexer": "ipython3",
   "version": "3.11.9"
  }
 },
 "nbformat": 4,
 "nbformat_minor": 5
}
